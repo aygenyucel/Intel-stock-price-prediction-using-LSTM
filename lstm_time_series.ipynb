{
  "nbformat": 4,
  "nbformat_minor": 0,
  "metadata": {
    "colab": {
      "name": "LSTM_(05.29).ipynb",
      "provenance": [],
      "collapsed_sections": []
    },
    "kernelspec": {
      "name": "python3",
      "display_name": "Python 3"
    },
    "language_info": {
      "name": "python"
    },
    "accelerator": "GPU"
  },
  "cells": [
    {
      "cell_type": "code",
      "metadata": {
        "id": "7bXCVe7bs1Ry"
      },
      "source": [
        "import pandas as pd\n",
        "import matplotlib.pyplot as plt\n",
        "import seaborn as sns\n",
        "import matplotlib as mpl\n",
        "import numpy as np\n",
        "\n",
        "import tensorflow as tf\n",
        "from tensorflow import keras\n",
        "\n",
        "from keras.models import Sequential #modeli sequential yapacağız\n",
        "from keras.layers import Dense, LSTM, Dropout #kullanacağımız modeller"
      ],
      "execution_count": 1,
      "outputs": []
    },
    {
      "cell_type": "code",
      "metadata": {
        "colab": {
          "base_uri": "https://localhost:8080/"
        },
        "id": "oLgwSjYysT99",
        "outputId": "dae655a2-6f96-4c73-f794-3ba9bece094f"
      },
      "source": [
        "from google.colab import drive\n",
        "drive.mount('/content/gdrive')"
      ],
      "execution_count": 2,
      "outputs": [
        {
          "output_type": "stream",
          "text": [
            "Mounted at /content/gdrive\n"
          ],
          "name": "stdout"
        }
      ]
    },
    {
      "cell_type": "code",
      "metadata": {
        "id": "CDNU8ZWtscPy"
      },
      "source": [
        "import os\n",
        "os.environ['KAGGLE_CONFIG_DIR'] = \"/content/gdrive/My Drive/data\""
      ],
      "execution_count": 3,
      "outputs": []
    },
    {
      "cell_type": "code",
      "metadata": {
        "colab": {
          "base_uri": "https://localhost:8080/"
        },
        "id": "sUU3GnC_scrC",
        "outputId": "23e0af38-ade4-4416-9000-968fc76cea23"
      },
      "source": [
        "%cd /content/gdrive/My Drive/data"
      ],
      "execution_count": 4,
      "outputs": [
        {
          "output_type": "stream",
          "text": [
            "/content/gdrive/My Drive/data\n"
          ],
          "name": "stdout"
        }
      ]
    },
    {
      "cell_type": "code",
      "metadata": {
        "colab": {
          "base_uri": "https://localhost:8080/"
        },
        "id": "wNWP76JzsfO9",
        "outputId": "f8d7b8d3-60ae-4c52-8676-01b4e45b81f8"
      },
      "source": [
        "!kaggle datasets download -d tosinabase/intel-stock-prices-historical-data-intc"
      ],
      "execution_count": 5,
      "outputs": [
        {
          "output_type": "stream",
          "text": [
            "401 - Unauthorized\n"
          ],
          "name": "stdout"
        }
      ]
    },
    {
      "cell_type": "code",
      "metadata": {
        "colab": {
          "base_uri": "https://localhost:8080/"
        },
        "id": "ZhwpkTdLsghV",
        "outputId": "bff87ee6-27df-4292-fb6b-6e19be5bb994"
      },
      "source": [
        "!unzip \\*.zip && *.zip"
      ],
      "execution_count": 6,
      "outputs": [
        {
          "output_type": "stream",
          "text": [
            "Archive:  archive.zip\n",
            "replace INTC.csv? [y]es, [n]o, [A]ll, [N]one, [r]ename: Y\n",
            "  inflating: INTC.csv                \n",
            "/bin/bash: archive.zip: command not found\n"
          ],
          "name": "stdout"
        }
      ]
    },
    {
      "cell_type": "code",
      "metadata": {
        "id": "lQhorNZOsh7p"
      },
      "source": [
        "df = pd.read_csv(\n",
        "  \"INTC.csv\",\n",
        "  parse_dates=['Date'], \n",
        "  index_col=\"Date\"\n",
        ")"
      ],
      "execution_count": 7,
      "outputs": []
    },
    {
      "cell_type": "code",
      "metadata": {
        "colab": {
          "base_uri": "https://localhost:8080/",
          "height": 227
        },
        "id": "bq2vFk49sjNH",
        "outputId": "9b2de47e-32fd-4b7f-8792-78c794022328"
      },
      "source": [
        "df.head()"
      ],
      "execution_count": 8,
      "outputs": [
        {
          "output_type": "execute_result",
          "data": {
            "text/html": [
              "<div>\n",
              "<style scoped>\n",
              "    .dataframe tbody tr th:only-of-type {\n",
              "        vertical-align: middle;\n",
              "    }\n",
              "\n",
              "    .dataframe tbody tr th {\n",
              "        vertical-align: top;\n",
              "    }\n",
              "\n",
              "    .dataframe thead th {\n",
              "        text-align: right;\n",
              "    }\n",
              "</style>\n",
              "<table border=\"1\" class=\"dataframe\">\n",
              "  <thead>\n",
              "    <tr style=\"text-align: right;\">\n",
              "      <th></th>\n",
              "      <th>Open</th>\n",
              "      <th>High</th>\n",
              "      <th>Low</th>\n",
              "      <th>Close</th>\n",
              "      <th>Adj Close</th>\n",
              "      <th>Volume</th>\n",
              "    </tr>\n",
              "    <tr>\n",
              "      <th>Date</th>\n",
              "      <th></th>\n",
              "      <th></th>\n",
              "      <th></th>\n",
              "      <th></th>\n",
              "      <th></th>\n",
              "      <th></th>\n",
              "    </tr>\n",
              "  </thead>\n",
              "  <tbody>\n",
              "    <tr>\n",
              "      <th>1980-03-17</th>\n",
              "      <td>0.325521</td>\n",
              "      <td>0.330729</td>\n",
              "      <td>0.325521</td>\n",
              "      <td>0.325521</td>\n",
              "      <td>0.199557</td>\n",
              "      <td>10924800</td>\n",
              "    </tr>\n",
              "    <tr>\n",
              "      <th>1980-03-18</th>\n",
              "      <td>0.325521</td>\n",
              "      <td>0.328125</td>\n",
              "      <td>0.322917</td>\n",
              "      <td>0.322917</td>\n",
              "      <td>0.197961</td>\n",
              "      <td>17068800</td>\n",
              "    </tr>\n",
              "    <tr>\n",
              "      <th>1980-03-19</th>\n",
              "      <td>0.330729</td>\n",
              "      <td>0.335938</td>\n",
              "      <td>0.330729</td>\n",
              "      <td>0.330729</td>\n",
              "      <td>0.202750</td>\n",
              "      <td>18508800</td>\n",
              "    </tr>\n",
              "    <tr>\n",
              "      <th>1980-03-20</th>\n",
              "      <td>0.330729</td>\n",
              "      <td>0.334635</td>\n",
              "      <td>0.329427</td>\n",
              "      <td>0.329427</td>\n",
              "      <td>0.201952</td>\n",
              "      <td>11174400</td>\n",
              "    </tr>\n",
              "    <tr>\n",
              "      <th>1980-03-21</th>\n",
              "      <td>0.322917</td>\n",
              "      <td>0.322917</td>\n",
              "      <td>0.317708</td>\n",
              "      <td>0.317708</td>\n",
              "      <td>0.194767</td>\n",
              "      <td>12172800</td>\n",
              "    </tr>\n",
              "  </tbody>\n",
              "</table>\n",
              "</div>"
            ],
            "text/plain": [
              "                Open      High       Low     Close  Adj Close    Volume\n",
              "Date                                                                   \n",
              "1980-03-17  0.325521  0.330729  0.325521  0.325521   0.199557  10924800\n",
              "1980-03-18  0.325521  0.328125  0.322917  0.322917   0.197961  17068800\n",
              "1980-03-19  0.330729  0.335938  0.330729  0.330729   0.202750  18508800\n",
              "1980-03-20  0.330729  0.334635  0.329427  0.329427   0.201952  11174400\n",
              "1980-03-21  0.322917  0.322917  0.317708  0.317708   0.194767  12172800"
            ]
          },
          "metadata": {
            "tags": []
          },
          "execution_count": 8
        }
      ]
    },
    {
      "cell_type": "code",
      "metadata": {
        "id": "SZRpw62ounw9"
      },
      "source": [
        "sns.set(style='whitegrid', palette='deep', font_scale=1.3)\n",
        "mpl.rcParams['figure.figsize'] = 18,8"
      ],
      "execution_count": 9,
      "outputs": []
    },
    {
      "cell_type": "code",
      "metadata": {
        "id": "TuIwciqXflPw",
        "colab": {
          "base_uri": "https://localhost:8080/",
          "height": 507
        },
        "outputId": "fbe18e78-3f43-4ef8-d663-2112598b936c"
      },
      "source": [
        "sns.lineplot(x=df.index, y=\"Close\", data=df); ###############################ekle"
      ],
      "execution_count": 10,
      "outputs": [
        {
          "output_type": "display_data",
          "data": {
            "image/png": "[encoded data removed]",
            "text/plain": [
              "<Figure size 1296x576 with 1 Axes>"
            ]
          },
          "metadata": {
            "tags": []
          }
        }
      ]
    },
    {
      "cell_type": "code",
      "metadata": {
        "colab": {
          "base_uri": "https://localhost:8080/"
        },
        "id": "ffGa8sJKOzi1",
        "outputId": "6f56cd02-2ddc-453f-b03a-077d88fff6f6"
      },
      "source": [
        "print(len(df.index.year))"
      ],
      "execution_count": 11,
      "outputs": [
        {
          "output_type": "stream",
          "text": [
            "10361\n"
          ],
          "name": "stdout"
        }
      ]
    },
    {
      "cell_type": "code",
      "metadata": {
        "colab": {
          "base_uri": "https://localhost:8080/"
        },
        "id": "SpW5rngcz8Sw",
        "outputId": "9312c320-88ce-4e8f-e4bf-a034c6fd6eaa"
      },
      "source": [
        "train_size = int(len(df) * 0.8)\n",
        "#verinin %80'inini eğitim için, kalan %20'sini test için ayırıyoruz.\n",
        "test_size = len(df) - train_size\n",
        "train = df[0:train_size]\n",
        "test = df[train_size:len(df)]\n",
        "print (\"Train Shape:\", train.shape,\n",
        "       \"\\nTest Shape:\", test.shape)"
      ],
      "execution_count": 12,
      "outputs": [
        {
          "output_type": "stream",
          "text": [
            "Train Shape: (8288, 6) \n",
            "Test Shape: (2073, 6)\n"
          ],
          "name": "stdout"
        }
      ]
    },
    {
      "cell_type": "code",
      "metadata": {
        "colab": {
          "base_uri": "https://localhost:8080/"
        },
        "id": "iX2l5JCDZggd",
        "outputId": "8dfbd5d3-7855-425b-e10e-a57e6c31cf26"
      },
      "source": [
        "df.columns"
      ],
      "execution_count": 13,
      "outputs": [
        {
          "output_type": "execute_result",
          "data": {
            "text/plain": [
              "Index(['Open', 'High', 'Low', 'Close', 'Adj Close', 'Volume'], dtype='object')"
            ]
          },
          "metadata": {
            "tags": []
          },
          "execution_count": 13
        }
      ]
    },
    {
      "cell_type": "code",
      "metadata": {
        "colab": {
          "base_uri": "https://localhost:8080/"
        },
        "id": "-VOdc6vpuVh-",
        "outputId": "8820af7d-3d35-4409-9184-a480a792270c"
      },
      "source": [
        "from sklearn.preprocessing import StandardScaler\n",
        "\n",
        "columns = ['Open', 'High', 'Low', 'Close', 'Adj Close', 'Volume']\n",
        "\n",
        "#creating scaler\n",
        "\n",
        "fscaler = StandardScaler()\n",
        "scaler = StandardScaler()\n",
        "\n",
        "#fit scaler on train data\n",
        "\n",
        "fscaler = fscaler.fit(train[columns].to_numpy())\n",
        "\n",
        "train.loc[:, columns] = fscaler.transform(train[columns].to_numpy())\n",
        "\n",
        "#apply transform on fitted train data\n",
        "\n",
        "train['Close'] =  scaler.fit(train[['Close']]).transform(train[['Close']])\n",
        "\n",
        "#fit scaler on test data\n",
        "\n",
        "test.loc[:, columns] = fscaler.transform(test[columns].to_numpy())\n",
        "\n",
        "#apply transform on fitted test data\n",
        "\n",
        "test['Close'] =  scaler.fit(train[['Close']]).transform(test[['Close']])\n"
      ],
      "execution_count": 14,
      "outputs": [
        {
          "output_type": "stream",
          "text": [
            "/usr/local/lib/python3.7/dist-packages/pandas/core/indexing.py:1734: SettingWithCopyWarning: \n",
            "A value is trying to be set on a copy of a slice from a DataFrame.\n",
            "Try using .loc[row_indexer,col_indexer] = value instead\n",
            "\n",
            "See the caveats in the documentation: https://pandas.pydata.org/pandas-docs/stable/user_guide/indexing.html#returning-a-view-versus-a-copy\n",
            "  isetter(loc, value[:, i].tolist())\n",
            "/usr/local/lib/python3.7/dist-packages/ipykernel_launcher.py:18: SettingWithCopyWarning: \n",
            "A value is trying to be set on a copy of a slice from a DataFrame.\n",
            "Try using .loc[row_indexer,col_indexer] = value instead\n",
            "\n",
            "See the caveats in the documentation: https://pandas.pydata.org/pandas-docs/stable/user_guide/indexing.html#returning-a-view-versus-a-copy\n",
            "/usr/local/lib/python3.7/dist-packages/pandas/core/indexing.py:1734: SettingWithCopyWarning: \n",
            "A value is trying to be set on a copy of a slice from a DataFrame.\n",
            "Try using .loc[row_indexer,col_indexer] = value instead\n",
            "\n",
            "See the caveats in the documentation: https://pandas.pydata.org/pandas-docs/stable/user_guide/indexing.html#returning-a-view-versus-a-copy\n",
            "  isetter(loc, value[:, i].tolist())\n",
            "/usr/local/lib/python3.7/dist-packages/ipykernel_launcher.py:26: SettingWithCopyWarning: \n",
            "A value is trying to be set on a copy of a slice from a DataFrame.\n",
            "Try using .loc[row_indexer,col_indexer] = value instead\n",
            "\n",
            "See the caveats in the documentation: https://pandas.pydata.org/pandas-docs/stable/user_guide/indexing.html#returning-a-view-versus-a-copy\n"
          ],
          "name": "stderr"
        }
      ]
    },
    {
      "cell_type": "code",
      "metadata": {
        "colab": {
          "base_uri": "https://localhost:8080/"
        },
        "id": "vdT9kHKFQ7qZ",
        "outputId": "b6c18140-4d3a-4c09-fcdd-8a68376946a0"
      },
      "source": [
        "df.shape"
      ],
      "execution_count": 15,
      "outputs": [
        {
          "output_type": "execute_result",
          "data": {
            "text/plain": [
              "(10361, 6)"
            ]
          },
          "metadata": {
            "tags": []
          },
          "execution_count": 15
        }
      ]
    },
    {
      "cell_type": "code",
      "metadata": {
        "id": "Yr9dVwZwysSh"
      },
      "source": [
        "#### Train Data ####\n",
        "time_steps = 14\n",
        "train_x = []\n",
        "train_y = []\n",
        "for i in range(len(train) - time_steps):\n",
        "\n",
        "  train_x.append(train.iloc[i:(i + time_steps)].values)\n",
        "  train_y.append((train.Close).iloc[i + time_steps])\n",
        "\n",
        "train_x = np.array(train_x)\n",
        "train_y = np.array(train_y)\n",
        "\n"
      ],
      "execution_count": 16,
      "outputs": []
    },
    {
      "cell_type": "code",
      "metadata": {
        "id": "KgYC9LZu1kno"
      },
      "source": [
        "####### Test Data #######\n",
        "\n",
        "test_x = []\n",
        "test_y = []\n",
        "for i in range(len(test) - time_steps):\n",
        "\n",
        "  test_x.append(test.iloc[i:(i + time_steps)].values)\n",
        "  test_y.append((test.Close).iloc[i + time_steps])\n",
        "\n",
        "test_x = np.array(test_x)\n",
        "test_y = np.array(test_y)"
      ],
      "execution_count": 17,
      "outputs": []
    },
    {
      "cell_type": "code",
      "metadata": {
        "colab": {
          "base_uri": "https://localhost:8080/"
        },
        "id": "HnSZJiKrXdpI",
        "outputId": "75b6fdca-51f4-405d-98f0-5c654dbb910f"
      },
      "source": [
        "df.shape"
      ],
      "execution_count": 18,
      "outputs": [
        {
          "output_type": "execute_result",
          "data": {
            "text/plain": [
              "(10361, 6)"
            ]
          },
          "metadata": {
            "tags": []
          },
          "execution_count": 18
        }
      ]
    },
    {
      "cell_type": "code",
      "metadata": {
        "colab": {
          "base_uri": "https://localhost:8080/"
        },
        "id": "n25WO9I1Y-2g",
        "outputId": "73be8f28-9fa8-4650-c363-893d76c7e556"
      },
      "source": [
        "print(\"Shape of train_x: \", train_x.shape, \"\\nShape of train_y: \", train_y.shape,\n",
        "      \"\\nShape of test_x: \", test_x.shape, \"\\nShape of test_y:\", test_y.shape)"
      ],
      "execution_count": 19,
      "outputs": [
        {
          "output_type": "stream",
          "text": [
            "Shape of train_x:  (8274, 14, 6) \n",
            "Shape of train_y:  (8274,) \n",
            "Shape of test_x:  (2059, 14, 6) \n",
            "Shape of test_y: (2059,)\n"
          ],
          "name": "stdout"
        }
      ]
    },
    {
      "cell_type": "code",
      "metadata": {
        "id": "Fh6YQn615GWd"
      },
      "source": [
        "features = 6 \n",
        "\n",
        "model = Sequential()\n",
        "model.add(LSTM(units = 5, input_shape=(time_steps, features), return_sequences=True))\n",
        "model.add(Dropout(0.25))\n",
        "model.add(LSTM(24))\n",
        "model.add(Dense(units=1))\n",
        "\n",
        "\n",
        "model.compile(loss='mean_squared_error', \n",
        "              optimizer='adam', \n",
        "              metrics=['accuracy'])"
      ],
      "execution_count": 20,
      "outputs": []
    },
    {
      "cell_type": "code",
      "metadata": {
        "colab": {
          "base_uri": "https://localhost:8080/"
        },
        "id": "3e_HU1ff6wZc",
        "outputId": "5f434aae-050f-4ab6-991a-e72de838aa7d"
      },
      "source": [
        "model.fit(train_x, train_y, \n",
        "          epochs=60,  \n",
        "          verbose=1, \n",
        "          validation_split=0.1, \n",
        "          shuffle=False) \n"
      ],
      "execution_count": null,
      "outputs": [
        {
          "output_type": "stream",
          "text": [
            "Epoch 1/60\n",
            "233/233 [==============================] - 7s 16ms/step - loss: 0.1989 - accuracy: 0.0000e+00 - val_loss: 0.0139 - val_accuracy: 0.0000e+00\n",
            "Epoch 2/60\n",
            "144/233 [=================>............] - ETA: 0s - loss: 0.0662 - accuracy: 0.0000e+00"
          ],
          "name": "stdout"
        }
      ]
    },
    {
      "cell_type": "code",
      "metadata": {
        "id": "az35RvQpSFTT"
      },
      "source": [
        "##############################################################################################33"
      ],
      "execution_count": null,
      "outputs": []
    },
    {
      "cell_type": "code",
      "metadata": {
        "id": "bhp4Eoo37sh1"
      },
      "source": [
        "test_prediction = model.predict(test_x)"
      ],
      "execution_count": null,
      "outputs": []
    },
    {
      "cell_type": "code",
      "metadata": {
        "id": "ozBu3g3R8A6q"
      },
      "source": [
        "plt.plot(np.arange(0, len(train_y)), train_y.flatten(), label=\"history\")\n",
        "\n",
        "plt.plot(np.arange(len(train_y), len(train_y) + len(test_y)), test_y.flatten(), 'g', label=\"true\")\n",
        "\n",
        "plt.plot(np.arange(len(train_y), len(train_y) + len(test_y)), test_prediction.flatten(), 'r', '.', label=\"prediction\")\n",
        "\n",
        "plt.title(\"Intel Stock Price Prediction \")\n",
        "plt.ylabel(\"Close Price\")\n",
        "plt.xlabel(\"Time Step\")\n",
        "\n",
        "plt.legend()\n",
        "plt.show();"
      ],
      "execution_count": null,
      "outputs": []
    },
    {
      "cell_type": "code",
      "metadata": {
        "id": "O5QVlBVQ8uta"
      },
      "source": [
        "\n",
        "plt.plot(test_y.flatten(),'g', marker='.', label=\"true\")\n",
        "plt.plot(test_prediction.flatten(), 'r', label=\"prediction\")\n",
        "plt.title(\"Intel Stock Price Prediction \")\n",
        "plt.ylabel(\"Close Price\")\n",
        "plt.xlabel(\"Time Step\")\n",
        "plt.legend()\n",
        "plt.show();"
      ],
      "execution_count": null,
      "outputs": []
    }
  ]
}